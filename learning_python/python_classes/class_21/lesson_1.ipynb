{
 "cells": [
  {
   "cell_type": "markdown",
   "metadata": {},
   "source": [
    "### 1. **Фильтрация и сортировка на основе временных диапазонов**"
   ]
  },
  {
   "cell_type": "markdown",
   "metadata": {},
   "source": [
    "#### **Фильтрация записей по временным интервалам**\n",
    "\n",
    "Фильтрация по временным диапазонам позволяет получить данные, соответствующие определённому временному промежутку. Например, это может быть:\n",
    "   - Записи за последние 7 дней.\n",
    "   - Данные за текущий месяц или год.\n",
    "   - Прошедшие выходные или конкретный день.\n",
    "\n",
    "Чтобы фильтровать данные по дате, сначала убедитесь, что в модели используется поле типа `DateField` или `DateTimeField`, например:"
   ]
  },
  {
   "cell_type": "code",
   "execution_count": null,
   "metadata": {},
   "outputs": [
    {
     "ename": "",
     "evalue": "",
     "output_type": "error",
     "traceback": [
      "\u001b[1;31mДля выполнения ячеек с \"Python 3.12.3\" требуется пакет ipykernel.\n",
      "\u001b[1;31mВыполните следующую команду, чтобы установить \"ipykernel\" в среде Python. \n",
      "\u001b[1;31mКоманда: \"/bin/python3 -m pip install ipykernel -U --user --force-reinstall\""
     ]
    }
   ],
   "source": [
    "from django.db import models\n",
    "\n",
    "class Order(models.Model):\n",
    "    created_at = models.DateTimeField(auto_now_add=True)\n",
    "    updated_at = models.DateTimeField(auto_now=True)"
   ]
  },
  {
   "cell_type": "markdown",
   "metadata": {},
   "source": [
    "##### Пример фильтрации по последним 7 дням:\n",
    "\n",
    "Для получения записей за последние 7 дней используем функцию `timezone.now()` и `timedelta` для создания временного диапазона.\n"
   ]
  },
  {
   "cell_type": "code",
   "execution_count": null,
   "metadata": {},
   "outputs": [],
   "source": [
    "from django.utils import timezone\n",
    "from datetime import timedelta\n",
    "\n",
    "seven_days_ago = timezone.now() - timedelta(days=7)\n",
    "recent_orders = Order.objects.filter(created_at__gte=seven_days_ago)"
   ]
  },
  {
   "cell_type": "markdown",
   "metadata": {},
   "source": [
    "Здесь:\n",
    "   - `timezone.now()` возвращает текущую дату и время, учитывая часовой пояс.\n",
    "   - `timedelta(days=7)` создаёт временной интервал в 7 дней.\n",
    "   - `created_at__gte=seven_days_ago` фильтрует записи, созданные в последние 7 дней.\n"
   ]
  },
  {
   "cell_type": "markdown",
   "metadata": {},
   "source": [
    "##### Пример фильтрации по текущему месяцу:\n",
    "\n",
    "Фильтрация по месяцу требует доступа к началу месяца, что можно сделать через атрибуты даты:"
   ]
  },
  {
   "cell_type": "code",
   "execution_count": null,
   "metadata": {},
   "outputs": [],
   "source": [
    "now = timezone.now()\n",
    "start_of_month = now.replace(day=1)\n",
    "orders_this_month = Order.objects.filter(created_at__gte=start_of_month)"
   ]
  },
  {
   "cell_type": "markdown",
   "metadata": {},
   "source": [
    "Здесь:\n",
    "   - `now.replace(day=1)` устанавливает день текущего месяца на 1, чтобы получить начало месяца."
   ]
  },
  {
   "cell_type": "markdown",
   "metadata": {},
   "source": [
    "##### Фильтрация по текущему году:"
   ]
  },
  {
   "cell_type": "code",
   "execution_count": null,
   "metadata": {},
   "outputs": [],
   "source": [
    "orders_this_year = Order.objects.filter(created_at__year=timezone.now().year)"
   ]
  },
  {
   "cell_type": "markdown",
   "metadata": {},
   "source": [
    "Здесь:\n",
    "   - `created_at__year=timezone.now().year` извлекает год из поля `created_at` и сравнивает его с текущим годом.\n"
   ]
  },
  {
   "cell_type": "markdown",
   "metadata": {},
   "source": [
    "#### **Использование библиотек и функций Python для работы с временными фильтрами**\n",
    "\n",
    "Для работы с временными интервалами важно правильно использовать библиотеки `datetime` и `timezone`. Ниже приведены основные функции и приёмы:\n",
    "\n",
    "   - **`timezone`**: предоставляет текущую дату и время с учётом часового пояса, что важно для корректной работы с данными в разных временных зонах.\n",
    "   - **`timedelta`**: позволяет устанавливать промежутки времени (например, `timedelta(days=7)` для недели, `timedelta(hours=1)` для часа).\n",
    "\n",
    "**Пример: получение заказов, созданных за последние 30 дней:**\n"
   ]
  },
  {
   "cell_type": "code",
   "execution_count": null,
   "metadata": {},
   "outputs": [],
   "source": [
    "thirty_days_ago = timezone.now() - timedelta(days=30)\n",
    "orders_last_30_days = Order.objects.filter(created_at__gte=thirty_days_ago)"
   ]
  },
  {
   "cell_type": "markdown",
   "metadata": {},
   "source": [
    "#### **Примеры динамической сортировки по дате**\n",
    "\n",
    "В Django ORM сортировка выполняется методом `order_by()`, который принимает поле для сортировки. Для временных данных часто используется сортировка по дате создания или обновления."
   ]
  },
  {
   "cell_type": "markdown",
   "metadata": {},
   "source": [
    "##### Сортировка по дате создания (новые записи в начале):"
   ]
  },
  {
   "cell_type": "code",
   "execution_count": null,
   "metadata": {},
   "outputs": [],
   "source": [
    "recent_orders = Order.objects.all().order_by('-created_at')"
   ]
  },
  {
   "cell_type": "markdown",
   "metadata": {},
   "source": [
    "Здесь:\n",
    "   - `-created_at` означает обратный порядок, т.е. от самых новых к старым."
   ]
  },
  {
   "cell_type": "markdown",
   "metadata": {},
   "source": [
    "##### Сортировка по дате обновления (сначала недавно изменённые записи):"
   ]
  },
  {
   "cell_type": "code",
   "execution_count": null,
   "metadata": {},
   "outputs": [],
   "source": [
    "updated_orders = Order.objects.all().order_by('-updated_at')"
   ]
  },
  {
   "cell_type": "markdown",
   "metadata": {},
   "source": [
    "#### **Совмещение фильтрации и сортировки по дате**\n",
    "\n",
    "Вы можете комбинировать фильтрацию и сортировку, чтобы получить записи, созданные в определённый временной промежуток, отсортированные по возрастанию или убыванию даты.\n",
    "\n",
    "**Пример: записи за последний месяц, отсортированные от самых старых к самым новым:**\n"
   ]
  },
  {
   "cell_type": "code",
   "execution_count": null,
   "metadata": {},
   "outputs": [],
   "source": [
    "start_of_month = timezone.now().replace(day=1)\n",
    "orders_this_month_sorted = Order.objects.filter(created_at__gte=start_of_month).order_by('created_at')"
   ]
  },
  {
   "cell_type": "markdown",
   "metadata": {},
   "source": [
    "<span style=\"color: blue;\"><h3>**Совет**</h3></span> Если вам нужно часто фильтровать и сортировать по дате, можно создать менеджер или использовать метод в модели для повторного использования логики:"
   ]
  },
  {
   "cell_type": "code",
   "execution_count": null,
   "metadata": {},
   "outputs": [],
   "source": [
    "class OrderManager(models.Manager):\n",
    "    def last_seven_days(self):\n",
    "        seven_days_ago = timezone.now() - timedelta(days=7)\n",
    "        return self.filter(created_at__gte=seven_days_ago).order_by('-created_at')\n",
    "\n",
    "class Order(models.Model):\n",
    "    created_at = models.DateTimeField(auto_now_add=True)\n",
    "    updated_at = models.DateTimeField(auto_now=True)\n",
    "    objects = OrderManager()\n",
    "\n",
    "# Использование\n",
    "recent_orders = Order.objects.last_seven_days()"
   ]
  },
  {
   "cell_type": "markdown",
   "metadata": {},
   "source": [
    "Такой подход облегчает управление данными и делает код более читаемым и организованным."
   ]
  }
 ],
 "metadata": {
  "kernelspec": {
   "display_name": "Python 3",
   "language": "python",
   "name": "python3"
  },
  "language_info": {
   "codemirror_mode": {
    "name": "ipython",
    "version": 3
   },
   "file_extension": ".py",
   "mimetype": "text/x-python",
   "name": "python",
   "nbconvert_exporter": "python",
   "pygments_lexer": "ipython3",
   "version": "3.12.3"
  }
 },
 "nbformat": 4,
 "nbformat_minor": 2
}
